{
 "cells": [
  {
   "cell_type": "code",
   "execution_count": 38,
   "id": "f5f834b5-5494-4fcd-b8b0-b44bb789df70",
   "metadata": {},
   "outputs": [
    {
     "name": "stdout",
     "output_type": "stream",
     "text": [
      "               0        1        2        3        4        5        6   \\\n",
      "0  phon_R01_S01_1  119.992  157.302   74.997  0.00784  0.00007  0.00370   \n",
      "1  phon_R01_S01_2  122.400  148.650  113.819  0.00968  0.00008  0.00465   \n",
      "2  phon_R01_S01_3  116.682  131.111  111.555  0.01050  0.00009  0.00544   \n",
      "3  phon_R01_S01_4  116.676  137.871  111.366  0.00997  0.00009  0.00502   \n",
      "4  phon_R01_S01_5  116.014  141.781  110.655  0.01284  0.00011  0.00655   \n",
      "\n",
      "        7        8        9   ...       14       15      16  17        18  \\\n",
      "0  0.00554  0.01109  0.04374  ...  0.06545  0.02211  21.033   1  0.414783   \n",
      "1  0.00696  0.01394  0.06134  ...  0.09403  0.01929  19.085   1  0.458359   \n",
      "2  0.00781  0.01633  0.05233  ...  0.08270  0.00000  20.651   1  0.429895   \n",
      "3  0.00698  0.01505  0.05492  ...  0.08771  0.00000  20.644   1  0.434969   \n",
      "4  0.00908  0.01966  0.06425  ...  0.10470  0.00000  19.649   1  0.417356   \n",
      "\n",
      "         19        20        21        22        23  \n",
      "0  0.815285 -4.813031  0.266482  2.301442  0.284654  \n",
      "1  0.819521 -4.813031  0.335590  2.486855  0.368674  \n",
      "2  0.825288 -4.813031  0.311173  2.342259  0.332634  \n",
      "3  0.845379 -4.813031  0.334147  2.405554  0.368975  \n",
      "4  0.845379 -4.813031  0.234513  2.332180  0.410335  \n",
      "\n",
      "[5 rows x 24 columns]\n"
     ]
    }
   ],
   "source": [
    "import pandas as pd\n",
    "from sklearn.model_selection import train_test_split\n",
    "from sklearn.ensemble import RandomForestClassifier\n",
    "\n",
    "data = pd.read_csv(r'C:\\Users\\Anushka\\.jupyter\\parkinsons.csv', header=None)\n",
    "print(data.head())"
   ]
  },
  {
   "cell_type": "code",
   "execution_count": 39,
   "id": "4a38887c-b772-46ff-80ff-564a01fea20a",
   "metadata": {},
   "outputs": [
    {
     "name": "stdout",
     "output_type": "stream",
     "text": [
      "             name  MDVP:Fo(Hz)  MDVP:Fhi(Hz)  MDVP:Flo(Hz)  MDVP:Jitter(%)  \\\n",
      "0  phon_R01_S01_1      119.992       157.302        74.997         0.00784   \n",
      "1  phon_R01_S01_2      122.400       148.650       113.819         0.00968   \n",
      "2  phon_R01_S01_3      116.682       131.111       111.555         0.01050   \n",
      "3  phon_R01_S01_4      116.676       137.871       111.366         0.00997   \n",
      "4  phon_R01_S01_5      116.014       141.781       110.655         0.01284   \n",
      "\n",
      "   MDVP:Jitter(Abs)  MDVP:RAP  MDVP:PPQ  Jitter:DDP  MDVP:Shimmer  ...  \\\n",
      "0           0.00007   0.00370   0.00554     0.01109       0.04374  ...   \n",
      "1           0.00008   0.00465   0.00696     0.01394       0.06134  ...   \n",
      "2           0.00009   0.00544   0.00781     0.01633       0.05233  ...   \n",
      "3           0.00009   0.00502   0.00698     0.01505       0.05492  ...   \n",
      "4           0.00011   0.00655   0.00908     0.01966       0.06425  ...   \n",
      "\n",
      "   Shimmer:DDA      NHR     HNR  status      RPDE       DFA   spread1  \\\n",
      "0      0.06545  0.02211  21.033       1  0.414783  0.815285 -4.813031   \n",
      "1      0.09403  0.01929  19.085       1  0.458359  0.819521 -4.813031   \n",
      "2      0.08270  0.00000  20.651       1  0.429895  0.825288 -4.813031   \n",
      "3      0.08771  0.00000  20.644       1  0.434969  0.845379 -4.813031   \n",
      "4      0.10470  0.00000  19.649       1  0.417356  0.845379 -4.813031   \n",
      "\n",
      "    spread2        D2       PPE  \n",
      "0  0.266482  2.301442  0.284654  \n",
      "1  0.335590  2.486855  0.368674  \n",
      "2  0.311173  2.342259  0.332634  \n",
      "3  0.334147  2.405554  0.368975  \n",
      "4  0.234513  2.332180  0.410335  \n",
      "\n",
      "[5 rows x 24 columns]\n"
     ]
    }
   ],
   "source": [
    "columns = [\n",
    "    'name', 'MDVP:Fo(Hz)', 'MDVP:Fhi(Hz)', 'MDVP:Flo(Hz)', 'MDVP:Jitter(%)',\n",
    "    'MDVP:Jitter(Abs)', 'MDVP:RAP', 'MDVP:PPQ', 'Jitter:DDP',\n",
    "    'MDVP:Shimmer', 'MDVP:Shimmer(dB)', 'Shimmer:APQ3', 'Shimmer:APQ5',\n",
    "    'MDVP:APQ', 'Shimmer:DDA', 'NHR', 'HNR', 'status', 'RPDE', 'DFA',\n",
    "    'spread1', 'spread2', 'D2', 'PPE'\n",
    "]\n",
    "\n",
    "df.columns = columns  \n",
    "\n",
    "print(df.head())"
   ]
  },
  {
   "cell_type": "code",
   "execution_count": 40,
   "id": "d1a2ba2a-0504-4889-ba81-ae589648ba65",
   "metadata": {},
   "outputs": [
    {
     "name": "stdout",
     "output_type": "stream",
     "text": [
      "<class 'pandas.core.frame.DataFrame'>\n",
      "RangeIndex: 49920 entries, 0 to 49919\n",
      "Data columns (total 24 columns):\n",
      " #   Column  Non-Null Count  Dtype  \n",
      "---  ------  --------------  -----  \n",
      " 0   0       49920 non-null  object \n",
      " 1   1       49920 non-null  float64\n",
      " 2   2       49920 non-null  float64\n",
      " 3   3       49920 non-null  float64\n",
      " 4   4       49920 non-null  float64\n",
      " 5   5       49920 non-null  float64\n",
      " 6   6       49920 non-null  float64\n",
      " 7   7       49920 non-null  float64\n",
      " 8   8       49920 non-null  float64\n",
      " 9   9       49920 non-null  float64\n",
      " 10  10      49920 non-null  float64\n",
      " 11  11      49920 non-null  float64\n",
      " 12  12      49920 non-null  float64\n",
      " 13  13      49920 non-null  float64\n",
      " 14  14      49920 non-null  float64\n",
      " 15  15      49920 non-null  float64\n",
      " 16  16      49920 non-null  float64\n",
      " 17  17      49920 non-null  int64  \n",
      " 18  18      49920 non-null  float64\n",
      " 19  19      49920 non-null  float64\n",
      " 20  20      49920 non-null  float64\n",
      " 21  21      49920 non-null  float64\n",
      " 22  22      49920 non-null  float64\n",
      " 23  23      49920 non-null  float64\n",
      "dtypes: float64(22), int64(1), object(1)\n",
      "memory usage: 9.1+ MB\n",
      "None\n",
      "                 1             2             3             4             5   \\\n",
      "count  49920.000000  49920.000000  49920.000000  49920.000000  49920.000000   \n",
      "mean     932.519528    196.709860    116.130635      0.008512      0.000042   \n",
      "std     5121.215672     90.289539     43.383829      0.028453      0.000035   \n",
      "min       88.333000    102.145000     65.476000      0.001680      0.000000   \n",
      "25%      117.004000    134.656000     83.961000      0.003420      0.000020   \n",
      "50%      148.272000    176.595000    104.095000      0.004940      0.000030   \n",
      "75%      184.055000    221.300000    138.990000      0.007400      0.000050   \n",
      "max    34567.000000    592.030000    239.170000      0.345678      0.000260   \n",
      "\n",
      "                 6             7             8             9             10  \\\n",
      "count  49920.000000  49920.000000  49920.000000  49920.000000  49920.000000   \n",
      "mean       0.189972      0.005383      0.101357      0.025847      0.281343   \n",
      "std        1.282565      0.443089     20.440562      0.020116      0.193960   \n",
      "min        0.000680      0.000920      0.002040      0.000000      0.085000   \n",
      "25%        0.001680      0.001880      0.005040      0.014500      0.149000   \n",
      "50%        0.002470      0.002610      0.007420      0.020470      0.217000   \n",
      "75%        0.003880      0.003900      0.011610      0.033810      0.350000   \n",
      "max        9.000000     99.000000   4567.000000      0.119080      1.302000   \n",
      "\n",
      "       ...            14            15            16            17  \\\n",
      "count  ...  49920.000000  49920.000000  49920.000000  49920.000000   \n",
      "mean   ...      0.048084      0.024400     21.848615      0.755769   \n",
      "std    ...      0.032358      0.039986      4.460022      0.429634   \n",
      "min    ...      0.013640      0.000000      8.441000      0.000000   \n",
      "25%    ...      0.024870      0.005860     19.196000      1.000000   \n",
      "50%    ...      0.038510      0.011610     22.219000      1.000000   \n",
      "75%    ...      0.061650      0.025290     25.032000      1.000000   \n",
      "max    ...      0.169420      0.314820     33.047000      1.000000   \n",
      "\n",
      "                 18            19            20            21            22  \\\n",
      "count  49920.000000  49920.000000  49920.000000  49920.000000  49920.000000   \n",
      "mean       0.500403      0.729037     -5.701817      0.134346      2.262023   \n",
      "std        0.103446      0.063695      1.093435      0.745943      1.072627   \n",
      "min        0.256570      0.574282     -7.964984     -7.964984     -7.964984   \n",
      "25%        0.422229      0.676258     -6.471427      0.171088      2.090438   \n",
      "50%        0.497554      0.727863     -5.724056      0.217013      2.361532   \n",
      "75%        0.594387      0.769347     -5.022288      0.278679      2.631793   \n",
      "max        0.685151      0.845379     -2.434031      0.450493      3.671155   \n",
      "\n",
      "                 23  \n",
      "count  49920.000000  \n",
      "mean       0.205670  \n",
      "std        0.089261  \n",
      "min        0.044539  \n",
      "25%        0.135242  \n",
      "50%        0.194052  \n",
      "75%        0.251972  \n",
      "max        0.527367  \n",
      "\n",
      "[8 rows x 23 columns]\n"
     ]
    }
   ],
   "source": [
    "print(data.info())\n",
    "print(data.describe())"
   ]
  },
  {
   "cell_type": "code",
   "execution_count": 41,
   "id": "c4c4123e-3231-415d-834c-d0157558e8d9",
   "metadata": {},
   "outputs": [],
   "source": [
    "data = data.dropna()  "
   ]
  },
  {
   "cell_type": "code",
   "execution_count": 42,
   "id": "767cbe3b-5074-46b0-99a9-6caa74e7d388",
   "metadata": {},
   "outputs": [
    {
     "name": "stdout",
     "output_type": "stream",
     "text": [
      "Index([ 0,  1,  2,  3,  4,  5,  6,  7,  8,  9, 10, 11, 12, 13, 14, 15, 16, 17,\n",
      "       18, 19, 20, 21, 22, 23],\n",
      "      dtype='int64')\n"
     ]
    }
   ],
   "source": [
    "print(data.columns)"
   ]
  },
  {
   "cell_type": "code",
   "execution_count": 43,
   "id": "994e76ee-ed3f-4918-941f-e6b2cf1be347",
   "metadata": {},
   "outputs": [
    {
     "name": "stdout",
     "output_type": "stream",
     "text": [
      "Column names in the dataset: Index([ 0,  1,  2,  3,  4,  5,  6,  7,  8,  9, 10, 11, 12, 13, 14, 15, 16, 17,\n",
      "       18, 19, 20, 21, 22, 23],\n",
      "      dtype='int64')\n"
     ]
    }
   ],
   "source": [
    "print(\"Column names in the dataset:\", data.columns)"
   ]
  },
  {
   "cell_type": "code",
   "execution_count": 44,
   "id": "32ca4aab-2fba-4de4-bbf7-404abdf04c2f",
   "metadata": {},
   "outputs": [
    {
     "name": "stdout",
     "output_type": "stream",
     "text": [
      "First few rows of the dataset:\n",
      "                0        1        2        3        4        5        6   \\\n",
      "0  phon_R01_S01_1  119.992  157.302   74.997  0.00784  0.00007  0.00370   \n",
      "1  phon_R01_S01_2  122.400  148.650  113.819  0.00968  0.00008  0.00465   \n",
      "2  phon_R01_S01_3  116.682  131.111  111.555  0.01050  0.00009  0.00544   \n",
      "3  phon_R01_S01_4  116.676  137.871  111.366  0.00997  0.00009  0.00502   \n",
      "4  phon_R01_S01_5  116.014  141.781  110.655  0.01284  0.00011  0.00655   \n",
      "\n",
      "        7        8        9   ...       14       15      16  17        18  \\\n",
      "0  0.00554  0.01109  0.04374  ...  0.06545  0.02211  21.033   1  0.414783   \n",
      "1  0.00696  0.01394  0.06134  ...  0.09403  0.01929  19.085   1  0.458359   \n",
      "2  0.00781  0.01633  0.05233  ...  0.08270  0.00000  20.651   1  0.429895   \n",
      "3  0.00698  0.01505  0.05492  ...  0.08771  0.00000  20.644   1  0.434969   \n",
      "4  0.00908  0.01966  0.06425  ...  0.10470  0.00000  19.649   1  0.417356   \n",
      "\n",
      "         19        20        21        22        23  \n",
      "0  0.815285 -4.813031  0.266482  2.301442  0.284654  \n",
      "1  0.819521 -4.813031  0.335590  2.486855  0.368674  \n",
      "2  0.825288 -4.813031  0.311173  2.342259  0.332634  \n",
      "3  0.845379 -4.813031  0.334147  2.405554  0.368975  \n",
      "4  0.845379 -4.813031  0.234513  2.332180  0.410335  \n",
      "\n",
      "[5 rows x 24 columns]\n"
     ]
    }
   ],
   "source": [
    "print(\"First few rows of the dataset:\\n\", data.head())"
   ]
  },
  {
   "cell_type": "code",
   "execution_count": 45,
   "id": "cf7830df-66d2-47c7-ae44-929cb3662d6b",
   "metadata": {},
   "outputs": [
    {
     "name": "stdout",
     "output_type": "stream",
     "text": [
      "The 'status' column is not found in the dataset.\n"
     ]
    }
   ],
   "source": [
    "if 'status' in data.columns:\n",
    "    X = data.drop(['status'], axis=1)\n",
    "    y = data['status']\n",
    "else:\n",
    "    print(\"The 'status' column is not found in the dataset.\")"
   ]
  },
  {
   "cell_type": "code",
   "execution_count": 46,
   "id": "dd7eab06-a957-409d-aef2-3bb84921b503",
   "metadata": {},
   "outputs": [],
   "source": [
    "X = data.iloc[:, :17]\n",
    "y = data.iloc[:, 17]"
   ]
  },
  {
   "cell_type": "code",
   "execution_count": 47,
   "id": "724eec7d-62fa-418c-a8da-a424b316cccf",
   "metadata": {},
   "outputs": [],
   "source": [
    "X_train, X_test, y_train, y_test = train_test_split(X, y, test_size=0.2, random_state=42)"
   ]
  },
  {
   "cell_type": "code",
   "execution_count": 48,
   "id": "fc6b2470-c481-4f1c-8452-1ad887595534",
   "metadata": {},
   "outputs": [],
   "source": [
    "X = X.apply(pd.to_numeric, errors='coerce')"
   ]
  },
  {
   "cell_type": "code",
   "execution_count": 49,
   "id": "27dc1518-dfca-40be-a88c-06d513154ca9",
   "metadata": {},
   "outputs": [
    {
     "name": "stdout",
     "output_type": "stream",
     "text": [
      "0     49920\n",
      "1         0\n",
      "2         0\n",
      "3         0\n",
      "4         0\n",
      "5         0\n",
      "6         0\n",
      "7         0\n",
      "8         0\n",
      "9         0\n",
      "10        0\n",
      "11        0\n",
      "12        0\n",
      "13        0\n",
      "14        0\n",
      "15        0\n",
      "16        0\n",
      "dtype: int64\n"
     ]
    }
   ],
   "source": [
    "print(X.isnull().sum())"
   ]
  },
  {
   "cell_type": "code",
   "execution_count": 50,
   "id": "44fba319-057a-475c-b3d9-a54fe927e1e2",
   "metadata": {},
   "outputs": [],
   "source": [
    "X = X.fillna(0)"
   ]
  },
  {
   "cell_type": "code",
   "execution_count": 51,
   "id": "6021f1b3-ce0c-449c-ba2a-d8377eadf0b6",
   "metadata": {},
   "outputs": [
    {
     "name": "stdout",
     "output_type": "stream",
     "text": [
      "    0        1        2        3        4        5        6        7   \\\n",
      "0  0.0  119.992  157.302   74.997  0.00784  0.00007  0.00370  0.00554   \n",
      "1  0.0  122.400  148.650  113.819  0.00968  0.00008  0.00465  0.00696   \n",
      "2  0.0  116.682  131.111  111.555  0.01050  0.00009  0.00544  0.00781   \n",
      "3  0.0  116.676  137.871  111.366  0.00997  0.00009  0.00502  0.00698   \n",
      "4  0.0  116.014  141.781  110.655  0.01284  0.00011  0.00655  0.00908   \n",
      "\n",
      "        8        9      10       11       12       13       14       15  \\\n",
      "0  0.01109  0.04374  0.426  0.02182  0.03130  0.02971  0.06545  0.02211   \n",
      "1  0.01394  0.06134  0.626  0.03134  0.04518  0.04368  0.09403  0.01929   \n",
      "2  0.01633  0.05233  0.482  0.02757  0.03858  0.03590  0.08270  0.00000   \n",
      "3  0.01505  0.05492  0.517  0.02924  0.04005  0.03772  0.08771  0.00000   \n",
      "4  0.01966  0.06425  0.584  0.03490  0.04825  0.04465  0.10470  0.00000   \n",
      "\n",
      "       16  \n",
      "0  21.033  \n",
      "1  19.085  \n",
      "2  20.651  \n",
      "3  20.644  \n",
      "4  19.649  \n"
     ]
    }
   ],
   "source": [
    "print(X.head())"
   ]
  },
  {
   "cell_type": "code",
   "execution_count": 52,
   "id": "db118aea-91f2-4c1a-9a81-dc1f53a0714f",
   "metadata": {},
   "outputs": [
    {
     "name": "stdout",
     "output_type": "stream",
     "text": [
      "X_train shape: (39936, 17)\n",
      "X_test shape: (9984, 17)\n",
      "y_train shape: (39936,)\n",
      "y_test shape: (9984,)\n"
     ]
    }
   ],
   "source": [
    "X_train, X_test, y_train, y_test = train_test_split(X, y, test_size=0.2, random_state=42)\n",
    "print(f\"X_train shape: {X_train.shape}\")\n",
    "print(f\"X_test shape: {X_test.shape}\")\n",
    "print(f\"y_train shape: {y_train.shape}\")\n",
    "print(f\"y_test shape: {y_test.shape}\")"
   ]
  },
  {
   "cell_type": "code",
   "execution_count": 53,
   "id": "b3191630-cc73-45aa-8403-9e00c9786639",
   "metadata": {},
   "outputs": [
    {
     "name": "stdout",
     "output_type": "stream",
     "text": [
      "Model trained successfully\n"
     ]
    }
   ],
   "source": [
    "model = RandomForestClassifier(n_estimators=100, random_state=42)\n",
    "model.fit(X_train, y_train)\n",
    "print(\"Model trained successfully\")"
   ]
  },
  {
   "cell_type": "code",
   "execution_count": 54,
   "id": "8605afba-245d-4264-942a-7c52ec109a7b",
   "metadata": {},
   "outputs": [
    {
     "data": {
      "text/plain": [
       "['parkinsons_model.pkl']"
      ]
     },
     "execution_count": 54,
     "metadata": {},
     "output_type": "execute_result"
    }
   ],
   "source": [
    "import joblib\n",
    "\n",
    "joblib.dump(model, 'parkinsons_model.pkl')"
   ]
  },
  {
   "cell_type": "code",
   "execution_count": 55,
   "id": "0757c5cc-2118-49a0-8e36-b11ee1f78cbb",
   "metadata": {},
   "outputs": [
    {
     "name": "stdout",
     "output_type": "stream",
     "text": [
      "              precision    recall  f1-score   support\n",
      "\n",
      "           0       0.99      1.00      1.00      2420\n",
      "           1       1.00      1.00      1.00      7564\n",
      "\n",
      "    accuracy                           1.00      9984\n",
      "   macro avg       1.00      1.00      1.00      9984\n",
      "weighted avg       1.00      1.00      1.00      9984\n",
      "\n"
     ]
    }
   ],
   "source": [
    "from sklearn.metrics import classification_report\n",
    "\n",
    "y_pred = model.predict(X_test)\n",
    "print(classification_report(y_test, y_pred))"
   ]
  },
  {
   "cell_type": "code",
   "execution_count": 56,
   "id": "487c281a-7665-4ae8-b516-0d071c721748",
   "metadata": {},
   "outputs": [
    {
     "name": "stdout",
     "output_type": "stream",
     "text": [
      "Package         Version\n",
      "--------------- -----------\n",
      "blinker         1.8.2\n",
      "click           8.1.7\n",
      "colorama        0.4.6\n",
      "Flask           3.0.3\n",
      "itsdangerous    2.2.0\n",
      "Jinja2          3.1.4\n",
      "joblib          1.4.2\n",
      "MarkupSafe      2.1.5\n",
      "numpy           2.0.0\n",
      "pandas          2.2.2\n",
      "pip             24.1.1\n",
      "python-dateutil 2.9.0.post0\n",
      "pytz            2024.1\n",
      "scikit-learn    1.5.1\n",
      "scipy           1.14.0\n",
      "six             1.16.0\n",
      "threadpoolctl   3.5.0\n",
      "tzdata          2024.1\n",
      "Werkzeug        3.0.3\n"
     ]
    }
   ],
   "source": [
    "!pip list"
   ]
  },
  {
   "cell_type": "code",
   "execution_count": 57,
   "id": "4787631f-e820-403a-b352-a0e46a35c786",
   "metadata": {},
   "outputs": [
    {
     "name": "stdout",
     "output_type": "stream",
     "text": [
      "Flask imported successfully\n"
     ]
    }
   ],
   "source": [
    "from flask import Flask, request, jsonify, render_template\n",
    "\n",
    "print(\"Flask imported successfully\")"
   ]
  },
  {
   "cell_type": "code",
   "execution_count": 58,
   "id": "4b74ddcb-339c-4949-88ba-09e73346b0d0",
   "metadata": {},
   "outputs": [
    {
     "name": "stdout",
     "output_type": "stream",
     "text": [
      "Defaulting to user installation because normal site-packages is not writeable\n",
      "Requirement already satisfied: Flask in c:\\users\\anushka\\appdata\\local\\packages\\pythonsoftwarefoundation.python.3.12_qbz5n2kfra8p0\\localcache\\local-packages\\python312\\site-packages (3.0.3)\n",
      "Requirement already satisfied: Werkzeug>=3.0.0 in c:\\users\\anushka\\appdata\\local\\packages\\pythonsoftwarefoundation.python.3.12_qbz5n2kfra8p0\\localcache\\local-packages\\python312\\site-packages (from Flask) (3.0.3)\n",
      "Requirement already satisfied: Jinja2>=3.1.2 in c:\\users\\anushka\\appdata\\local\\packages\\pythonsoftwarefoundation.python.3.12_qbz5n2kfra8p0\\localcache\\local-packages\\python312\\site-packages (from Flask) (3.1.4)\n",
      "Requirement already satisfied: itsdangerous>=2.1.2 in c:\\users\\anushka\\appdata\\local\\packages\\pythonsoftwarefoundation.python.3.12_qbz5n2kfra8p0\\localcache\\local-packages\\python312\\site-packages (from Flask) (2.2.0)\n",
      "Requirement already satisfied: click>=8.1.3 in c:\\users\\anushka\\appdata\\local\\packages\\pythonsoftwarefoundation.python.3.12_qbz5n2kfra8p0\\localcache\\local-packages\\python312\\site-packages (from Flask) (8.1.7)\n",
      "Requirement already satisfied: blinker>=1.6.2 in c:\\users\\anushka\\appdata\\local\\packages\\pythonsoftwarefoundation.python.3.12_qbz5n2kfra8p0\\localcache\\local-packages\\python312\\site-packages (from Flask) (1.8.2)\n",
      "Requirement already satisfied: colorama in c:\\users\\anushka\\appdata\\local\\packages\\pythonsoftwarefoundation.python.3.12_qbz5n2kfra8p0\\localcache\\local-packages\\python312\\site-packages (from click>=8.1.3->Flask) (0.4.6)\n",
      "Requirement already satisfied: MarkupSafe>=2.0 in c:\\users\\anushka\\appdata\\local\\packages\\pythonsoftwarefoundation.python.3.12_qbz5n2kfra8p0\\localcache\\local-packages\\python312\\site-packages (from Jinja2>=3.1.2->Flask) (2.1.5)\n"
     ]
    },
    {
     "name": "stderr",
     "output_type": "stream",
     "text": [
      "\n",
      "[notice] A new release of pip is available: 24.0 -> 24.1.1\n",
      "[notice] To update, run: C:\\Users\\Anushka\\AppData\\Local\\Microsoft\\WindowsApps\\PythonSoftwareFoundation.Python.3.12_qbz5n2kfra8p0\\python.exe -m pip install --upgrade pip\n"
     ]
    }
   ],
   "source": [
    "import sys\n",
    "!{sys.executable} -m pip install Flask"
   ]
  },
  {
   "cell_type": "code",
   "execution_count": 59,
   "id": "d64c323f-48a6-478a-ba0a-c12466ac7512",
   "metadata": {},
   "outputs": [],
   "source": [
    "from sklearn.ensemble import RandomForestClassifier\n",
    "import joblib"
   ]
  },
  {
   "cell_type": "code",
   "execution_count": 60,
   "id": "fb8c0149-88d9-4185-93e1-b0bf9be1483b",
   "metadata": {},
   "outputs": [],
   "source": [
    "import numpy as np"
   ]
  },
  {
   "cell_type": "code",
   "execution_count": 61,
   "id": "48c3c6d3-0350-4c30-90e9-c9683d93706a",
   "metadata": {},
   "outputs": [],
   "source": [
    "app = Flask(__name__)\n",
    "model = joblib.load('parkinsons_model.pkl')"
   ]
  },
  {
   "cell_type": "code",
   "execution_count": 62,
   "id": "f10f7ce4-cd5c-4343-9859-06dff3ba3da7",
   "metadata": {},
   "outputs": [],
   "source": [
    "@app.route('/')\n",
    "def index():\n",
    "    return render_template('index.html')"
   ]
  },
  {
   "cell_type": "code",
   "execution_count": 63,
   "id": "a9e6fd97-e27e-4301-99a5-2145eeb4ef42",
   "metadata": {},
   "outputs": [
    {
     "name": "stdout",
     "output_type": "stream",
     "text": [
      " * Serving Flask app '__main__'\n",
      " * Debug mode: on\n"
     ]
    },
    {
     "name": "stderr",
     "output_type": "stream",
     "text": [
      "WARNING: This is a development server. Do not use it in a production deployment. Use a production WSGI server instead.\n",
      " * Running on http://127.0.0.1:5000\n",
      "Press CTRL+C to quit\n",
      " * Restarting with stat\n"
     ]
    },
    {
     "ename": "SystemExit",
     "evalue": "1",
     "output_type": "error",
     "traceback": [
      "An exception has occurred, use %tb to see the full traceback.\n",
      "\u001b[1;31mSystemExit\u001b[0m\u001b[1;31m:\u001b[0m 1\n"
     ]
    },
    {
     "name": "stderr",
     "output_type": "stream",
     "text": [
      "C:\\Users\\Anushka\\AppData\\Local\\Packages\\PythonSoftwareFoundation.Python.3.12_qbz5n2kfra8p0\\LocalCache\\local-packages\\Python312\\site-packages\\IPython\\core\\interactiveshell.py:3585: UserWarning: To exit: use 'exit', 'quit', or Ctrl-D.\n",
      "  warn(\"To exit: use 'exit', 'quit', or Ctrl-D.\", stacklevel=1)\n"
     ]
    }
   ],
   "source": [
    "@app.route('/predict', methods=['POST'])\n",
    "def predict():\n",
    "    if request.method == 'POST':\n",
    "        # Fetch user input from form\n",
    "        mdvp_fo = float(request.form['mdvp_fo'])\n",
    "        mdvp_fhi = float(request.form['mdvp_fhi'])\n",
    "        mdvp_flo = float(request.form['mdvp_flo'])\n",
    "        mdvp_jitter_percent = float(request.form['mdvp_jitter_percent'])\n",
    "        mdvp_jitter_abs = float(request.form['mdvp_jitter_abs'])\n",
    "        mdvp_rap = float(request.form['mdvp_rap'])\n",
    "        mdvp_ppq = float(request.form['mdvp_ppq'])\n",
    "        jitter_ddp = float(request.form['jitter_ddp'])\n",
    "        mdvp_shimmer = float(request.form['mdvp_shimmer'])\n",
    "\n",
    "        # Prepare input for prediction as a DataFrame row\n",
    "        input_data = pd.DataFrame([[mdvp_fo, mdvp_fhi, mdvp_flo, mdvp_jitter_percent,\n",
    "                                    mdvp_jitter_abs, mdvp_rap, mdvp_ppq, jitter_ddp,\n",
    "                                    mdvp_shimmer]],\n",
    "                                  columns=['MDVP:Fo(Hz)', 'MDVP:Fhi(Hz)', 'MDVP:Flo(Hz)',\n",
    "                                           'MDVP:Jitter(%)', 'MDVP:Jitter(Abs)', 'MDVP:RAP',\n",
    "                                           'MDVP:PPQ', 'Jitter:DDP', 'MDVP:Shimmer'])\n",
    "\n",
    "        # Example: Load your model and make predictions\n",
    "        # model = joblib.load('your_model.pkl')\n",
    "        # prediction = model.predict(input_data)\n",
    "\n",
    "        # Example: Dummy prediction (replace with your actual prediction logic)\n",
    "        prediction_text = \"Healthy\"  # Replace with your actual prediction result\n",
    "\n",
    "        return render_template('index.html', prediction_text=prediction_text)\n",
    "\n",
    "    return render_template('index.html')  # Handle GET request, e.g., initial page load\n",
    "\n",
    "if __name__ == '__main__':\n",
    "    app.run(debug=True)"
   ]
  },
  {
   "cell_type": "code",
   "execution_count": null,
   "id": "4f91e09a-e16f-4071-bfbb-ad4fe614c5af",
   "metadata": {},
   "outputs": [],
   "source": []
  }
 ],
 "metadata": {
  "kernelspec": {
   "display_name": "Python 3 (ipykernel)",
   "language": "python",
   "name": "python3"
  },
  "language_info": {
   "codemirror_mode": {
    "name": "ipython",
    "version": 3
   },
   "file_extension": ".py",
   "mimetype": "text/x-python",
   "name": "python",
   "nbconvert_exporter": "python",
   "pygments_lexer": "ipython3",
   "version": "3.12.4"
  }
 },
 "nbformat": 4,
 "nbformat_minor": 5
}
